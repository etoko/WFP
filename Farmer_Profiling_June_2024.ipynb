{
 "cells": [
  {
   "cell_type": "code",
   "execution_count": 63,
   "id": "cf0d4349-1e74-41b0-8cc8-950f2df85687",
   "metadata": {},
   "outputs": [],
   "source": [
    "import pandas as pd\n",
    "import numpy as np\n",
    "import matplotlib.pyplot as plt "
   ]
  },
  {
   "cell_type": "code",
   "execution_count": 64,
   "id": "a1ec5cfc-428f-441c-9e5e-b22e2223f4d4",
   "metadata": {},
   "outputs": [
    {
     "name": "stderr",
     "output_type": "stream",
     "text": [
      "C:\\Users\\emmanuel.toko\\AppData\\Local\\Temp\\ipykernel_11016\\3608580996.py:1: DtypeWarning: Columns (7,13,18,19,20,21,22,23,24,25,26,27,28,29,32,40,75,76,77,91,93,96,108,109,110,123,124,125,126,127,128,129,130,131,132,133,134,135,136,137,138,139,140,141,142,143,144,146,147,148,149,150,151,152,153,154,155,156,157,158,159,160,161,162,163,164,165,166,168,169,170,171,172,173,174,175,176,177,179,180,181,182,183,184,185,186,187,188,189,190,191,192,193,194,195,197,198,199,200,201,202,204,205,206,207,208,209,210,211,212,214,215,216,217,218,219,324,325,326,327,328,329,330,331,332,333,334,335,336,337,338,366,367,368,369,370,371,372,373,374,375,376,377,378,379,380,381,382,383,384,385,386,387,395,396,397,398,399,400,401,402,403,404) have mixed types. Specify dtype option on import or set low_memory=False.\n",
      "  df = pd.read_csv(\"Farmer_Profiling_Tool_Jan_2024_2024_06_12_13_49_35_225304.csv\")\n"
     ]
    }
   ],
   "source": [
    "df = pd.read_csv(\"Farmer_Profiling_Tool_Jan_2024_2024_06_12_13_49_35_225304.csv\")"
   ]
  },
  {
   "cell_type": "code",
   "execution_count": 65,
   "id": "a57c4b9e-74b9-4fdb-bbf3-52effe9ec26e",
   "metadata": {},
   "outputs": [],
   "source": [
    "dropped_cols = [\"_id\", \"_uuid\", \"_submission_time\", \"_date_modified\", \n",
    "                \"_tags\", \"_notes\", \"_version\", \"_duration\", \n",
    "                \"_submitted_by\", \"_total_media\", \"_media_count\", \n",
    "                \"_media_all_received\", \"_xform_id\", \"Consent_agreement\",\n",
    "                \"Region\", \"name1\", \"SMF_IDNo\", \"meta/instanceID\", \n",
    "                \"Consent/Tel_contact1\", \"Consent/Tel_contact2\", \n",
    "                \"Consent/Enumerator_name\", \"Consent/Enumerator_NGO\", \n",
    "                \"Consent/Enumerator_TelC\"]\n"
   ]
  },
  {
   "cell_type": "code",
   "execution_count": 66,
   "id": "abf940eb-624a-4f16-a8a6-7286d927e28d",
   "metadata": {},
   "outputs": [],
   "source": [
    "try:\n",
    "    df.drop(columns=dropped_cols, axis=1, inplace=True)\n",
    "except KeyError as err:\n",
    "    print(err)\n",
    "    \n",
    "columns = df.columns\n",
    "new_columns = []\n",
    "#columns = [col.removeprefix(\"Consent/\") for col in columns]\n",
    "for col in columns:\n",
    "    col = col.strip()\n",
    "    col = col.removeprefix(\"Consent/\")\n",
    "    col = col.replace(\"/\", \"__\")\n",
    "    new_columns.append(col)\n",
    "\n",
    "df.columns = new_columns"
   ]
  },
  {
   "cell_type": "code",
   "execution_count": 67,
   "id": "bfced1d3-1fbc-4086-b797-9a608134d9b6",
   "metadata": {},
   "outputs": [],
   "source": [
    "df.to_csv(\"Farmer_Profiling_Jan_2024_removed_headers.csv\")"
   ]
  },
  {
   "cell_type": "code",
   "execution_count": 68,
   "id": "5dccc521-a0ee-410f-8b0d-70f7f32f024d",
   "metadata": {},
   "outputs": [],
   "source": [
    "#Replace the case type of all names to TitleCase and strip whitespace\n",
    "df = df.map(lambda x: x.strip() if isinstance(x, str) else x)\n",
    "df = df.map(lambda x: x.title() if isinstance(x, str) else x)\n",
    "# Replace two or more spaces with a single space\n",
    "df = df.replace(r'\\s{2,}', ' ', regex=True)\n"
   ]
  },
  {
   "cell_type": "code",
   "execution_count": 46,
   "id": "9824606c-d1da-46d9-8952-74cae2cdd0c1",
   "metadata": {},
   "outputs": [],
   "source": [
    "df.to_csv(\"Farmer_Profiling_Jan_2024_removed_headers.csv\")"
   ]
  },
  {
   "cell_type": "code",
   "execution_count": 69,
   "id": "69dd220e-8f12-4618-b727-59a8ae8a627e",
   "metadata": {},
   "outputs": [],
   "source": [
    "#Extract only farmers in southwest  operational area\n",
    "swao_districts = [\"Isingiro\", \"Kamwenge\", \"Kikuube\", \"Kyegegwa\"]\n",
    "swao_farmers = df[df.District.isin(swao_districts)]"
   ]
  },
  {
   "cell_type": "code",
   "execution_count": 74,
   "id": "745e1e4b-26fb-464a-9481-5a1fc84ca840",
   "metadata": {},
   "outputs": [],
   "source": [
    "#Correct the parish names\n",
    "butoole  =dict.fromkeys([\"Butole\",], \"Butoole\")\n",
    "bujubuli = dict.fromkeys([\"Bujubul\", \"Bujubuli Tb\"], \"Bujubuli\")\n",
    "kabaare = dict.fromkeys([\"Kabaale\",], \"Kabaare\")\n",
    "kasonga = dict.fromkeys([\"Kasongo\", \"Kaspnga\", \"Kawpnga\"], \"Kasonga\")\n",
    "kimbugu = dict.fromkeys([\"Kimbugu Women'S Group Karama\", \"Kimbungu\",], \"Kimbugu\")\n",
    "nyabubaare = dict.fromkeys([\"Nyabubaare\",], \"Nyabubare\")\n",
    "kyangwali = dict.fromkeys([\"Kyangwali Youth Farmers Farmers Group\",], \"Kyangwali\")\n",
    "kyezimbire = dict.fromkeys([\"Kyezimbere\", \"Kyezimbere Group\", \"Kyezimbir\"],\n",
    "                           \"Kyezimbire\")\n",
    "nyamuhanami = dict.fromkeys([\"Nyamihanami\", \"Nyamuhanami Ward\"], \"Nyamuhanami\")\n",
    "nyabushenyi = dict.fromkeys([\"Nyabusheny\",], \"Nyabushenyi\")\n",
    "sweswe = dict.fromkeys([\"Sw\", \"Swe\"], \"Sweswe\")\n",
    "\n",
    "\n",
    "kyabulikuya\t= dict.fromkeys([\"Kya Burukuya\", \"Kyab Urukuya\", \"Kyabishaho\", \n",
    "                             \"Kyabukuya\", \"Kyabulikuya\", \"Kyabulukuya\", \n",
    "                             \"Kyaburikuya\", \"Kyaburkuya\", \"Kyaburukiya\", \n",
    "                             \"Kyaburukuya\", \"Kyaburukuya Tweyambe\", \n",
    "                             \"Kyaburukuya9\", \"Kyabururkuya\", \"Kyaburykuya\"], \n",
    "                            \"Kyabulikuya\")\n",
    " \n",
    "\n",
    "\n",
    "swao_farmers = swao_farmers.replace(butoole)\n",
    "swao_farmers = swao_farmers.replace(bujubuli)\n",
    "swao_farmers = swao_farmers.replace(kabaare)\n",
    "swao_farmers.replace(kyabulikuya, inplace=True)\n",
    "swao_farmers.replace(kyangwali, inplace=True)\n",
    "swao_farmers.replace(kyezimbire, inplace=True)\n",
    "swao_farmers.replace(nyamuhanami, inplace=True)\n",
    "swao_farmers.replace(nyabubaare, inplace=True)\n",
    "swao_farmers.replace(nyabushenyi, inplace=True)\n",
    "swao_farmers.replace(sweswe, inplace=True)\n",
    "\n"
   ]
  },
  {
   "cell_type": "code",
   "execution_count": 75,
   "id": "00c7740d-8faa-441b-8e9e-e302f6f35bc3",
   "metadata": {},
   "outputs": [],
   "source": [
    "swao_farmers.to_csv(\"swao_farmers.csv\", index=False)"
   ]
  },
  {
   "cell_type": "code",
   "execution_count": null,
   "id": "1a26af18-b610-4843-b0d2-240f0c8bf61b",
   "metadata": {},
   "outputs": [],
   "source": []
  }
 ],
 "metadata": {
  "kernelspec": {
   "display_name": "Python 3 (ipykernel)",
   "language": "python",
   "name": "python3"
  },
  "language_info": {
   "codemirror_mode": {
    "name": "ipython",
    "version": 3
   },
   "file_extension": ".py",
   "mimetype": "text/x-python",
   "name": "python",
   "nbconvert_exporter": "python",
   "pygments_lexer": "ipython3",
   "version": "3.10.7"
  }
 },
 "nbformat": 4,
 "nbformat_minor": 5
}
